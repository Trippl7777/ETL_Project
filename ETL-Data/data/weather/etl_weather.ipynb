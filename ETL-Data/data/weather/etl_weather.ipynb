{
 "cells": [
  {
   "cell_type": "markdown",
   "metadata": {},
   "source": [
    "# Testing requests"
   ]
  },
  {
   "cell_type": "code",
   "execution_count": 1,
   "metadata": {},
   "outputs": [],
   "source": [
    "# Dependencies and Setup\n",
    "import matplotlib.pyplot as plt\n",
    "import pandas as pd\n",
    "import numpy as np\n",
    "import requests \n",
    "import time\n",
    "import pprint\n",
    "import openweathermapy.core as owm\n",
    "\n",
    "# Import datetime for today's (execution) date\n",
    "import datetime\n",
    "from datetime import datetime as dt\n",
    "\n",
    "# Import API key\n",
    "from api_keys import api_key\n",
    "\n",
    "# Incorporated citipy to determine city based on latitude and longitude\n",
    "from citipy import citipy"
   ]
  },
  {
   "cell_type": "code",
   "execution_count": 2,
   "metadata": {},
   "outputs": [
    {
     "data": {
      "text/html": [
       "<div>\n",
       "<style scoped>\n",
       "    .dataframe tbody tr th:only-of-type {\n",
       "        vertical-align: middle;\n",
       "    }\n",
       "\n",
       "    .dataframe tbody tr th {\n",
       "        vertical-align: top;\n",
       "    }\n",
       "\n",
       "    .dataframe thead th {\n",
       "        text-align: right;\n",
       "    }\n",
       "</style>\n",
       "<table border=\"1\" class=\"dataframe\">\n",
       "  <thead>\n",
       "    <tr style=\"text-align: right;\">\n",
       "      <th></th>\n",
       "      <th>City</th>\n",
       "      <th>Lat</th>\n",
       "      <th>Lng</th>\n",
       "      <th>Date</th>\n",
       "      <th>Max Temp</th>\n",
       "      <th>Min Temp</th>\n",
       "      <th>Humidity</th>\n",
       "      <th>Clouds</th>\n",
       "      <th>Wind Speed</th>\n",
       "      <th>Weather ID</th>\n",
       "    </tr>\n",
       "  </thead>\n",
       "  <tbody>\n",
       "    <tr>\n",
       "      <td>0</td>\n",
       "      <td>Chicago</td>\n",
       "      <td></td>\n",
       "      <td></td>\n",
       "      <td></td>\n",
       "      <td></td>\n",
       "      <td></td>\n",
       "      <td></td>\n",
       "      <td></td>\n",
       "      <td></td>\n",
       "      <td></td>\n",
       "    </tr>\n",
       "    <tr>\n",
       "      <td>1</td>\n",
       "      <td>Atlanta</td>\n",
       "      <td></td>\n",
       "      <td></td>\n",
       "      <td></td>\n",
       "      <td></td>\n",
       "      <td></td>\n",
       "      <td></td>\n",
       "      <td></td>\n",
       "      <td></td>\n",
       "      <td></td>\n",
       "    </tr>\n",
       "    <tr>\n",
       "      <td>2</td>\n",
       "      <td>Boston</td>\n",
       "      <td></td>\n",
       "      <td></td>\n",
       "      <td></td>\n",
       "      <td></td>\n",
       "      <td></td>\n",
       "      <td></td>\n",
       "      <td></td>\n",
       "      <td></td>\n",
       "      <td></td>\n",
       "    </tr>\n",
       "    <tr>\n",
       "      <td>3</td>\n",
       "      <td>Los Angeles</td>\n",
       "      <td></td>\n",
       "      <td></td>\n",
       "      <td></td>\n",
       "      <td></td>\n",
       "      <td></td>\n",
       "      <td></td>\n",
       "      <td></td>\n",
       "      <td></td>\n",
       "      <td></td>\n",
       "    </tr>\n",
       "    <tr>\n",
       "      <td>4</td>\n",
       "      <td>Denver</td>\n",
       "      <td></td>\n",
       "      <td></td>\n",
       "      <td></td>\n",
       "      <td></td>\n",
       "      <td></td>\n",
       "      <td></td>\n",
       "      <td></td>\n",
       "      <td></td>\n",
       "      <td></td>\n",
       "    </tr>\n",
       "  </tbody>\n",
       "</table>\n",
       "</div>"
      ],
      "text/plain": [
       "          City Lat Lng Date Max Temp Min Temp Humidity Clouds Wind Speed  \\\n",
       "0      Chicago                                                             \n",
       "1      Atlanta                                                             \n",
       "2       Boston                                                             \n",
       "3  Los Angeles                                                             \n",
       "4       Denver                                                             \n",
       "\n",
       "  Weather ID  \n",
       "0             \n",
       "1             \n",
       "2             \n",
       "3             \n",
       "4             "
      ]
     },
     "execution_count": 2,
     "metadata": {},
     "output_type": "execute_result"
    }
   ],
   "source": [
    "cities= [\"Chicago\",\"Atlanta\",\"Boston\",\"Los Angeles\",\"Denver\"]\n",
    "settings = {\"units\": \"Imperial\", \"appid\": api_key}\n",
    "\n",
    "weather_df = pd.DataFrame()\n",
    "weather_df[\"City\"] = cities\n",
    "weather_df[\"Lat\"] = \"\"\n",
    "weather_df[\"Lng\"] = \"\"\n",
    "weather_df[\"Date\"] = \"\"\n",
    "weather_df[\"Max Temp\"] = \"\"\n",
    "weather_df[\"Min Temp\"] = \"\"\n",
    "weather_df[\"Humidity\"] = \"\"\n",
    "weather_df[\"Clouds\"] = \"\"\n",
    "weather_df[\"Wind Speed\"] = \"\"\n",
    "weather_df[\"Weather ID\"] = \"\"\n",
    "\n",
    "weather_df.head()"
   ]
  },
  {
   "cell_type": "code",
   "execution_count": 3,
   "metadata": {},
   "outputs": [
    {
     "name": "stdout",
     "output_type": "stream",
     "text": [
      "0 out of 5 | Found data for: Chicago\n",
      "1 out of 5 | Found data for: Atlanta\n",
      "2 out of 5 | Found data for: Boston\n",
      "3 out of 5 | Found data for: Los Angeles\n",
      "4 out of 5 | Found data for: Denver\n"
     ]
    },
    {
     "data": {
      "text/html": [
       "<div>\n",
       "<style scoped>\n",
       "    .dataframe tbody tr th:only-of-type {\n",
       "        vertical-align: middle;\n",
       "    }\n",
       "\n",
       "    .dataframe tbody tr th {\n",
       "        vertical-align: top;\n",
       "    }\n",
       "\n",
       "    .dataframe thead th {\n",
       "        text-align: right;\n",
       "    }\n",
       "</style>\n",
       "<table border=\"1\" class=\"dataframe\">\n",
       "  <thead>\n",
       "    <tr style=\"text-align: right;\">\n",
       "      <th></th>\n",
       "      <th>City</th>\n",
       "      <th>Lat</th>\n",
       "      <th>Lng</th>\n",
       "      <th>Date</th>\n",
       "      <th>Max Temp</th>\n",
       "      <th>Min Temp</th>\n",
       "      <th>Humidity</th>\n",
       "      <th>Clouds</th>\n",
       "      <th>Wind Speed</th>\n",
       "      <th>Weather ID</th>\n",
       "      <th>Country</th>\n",
       "    </tr>\n",
       "  </thead>\n",
       "  <tbody>\n",
       "    <tr>\n",
       "      <td>0</td>\n",
       "      <td>Chicago</td>\n",
       "      <td>41.88</td>\n",
       "      <td>-87.62</td>\n",
       "      <td>1567725597</td>\n",
       "      <td>73.4</td>\n",
       "      <td>64</td>\n",
       "      <td>64</td>\n",
       "      <td>1</td>\n",
       "      <td>4.7</td>\n",
       "      <td>800</td>\n",
       "      <td>US</td>\n",
       "    </tr>\n",
       "    <tr>\n",
       "      <td>1</td>\n",
       "      <td>Atlanta</td>\n",
       "      <td>33.75</td>\n",
       "      <td>-84.39</td>\n",
       "      <td>1567725519</td>\n",
       "      <td>93.2</td>\n",
       "      <td>84</td>\n",
       "      <td>33</td>\n",
       "      <td>1</td>\n",
       "      <td>8.05</td>\n",
       "      <td>800</td>\n",
       "      <td>US</td>\n",
       "    </tr>\n",
       "    <tr>\n",
       "      <td>2</td>\n",
       "      <td>Boston</td>\n",
       "      <td>42.36</td>\n",
       "      <td>-71.06</td>\n",
       "      <td>1567725668</td>\n",
       "      <td>64.4</td>\n",
       "      <td>59</td>\n",
       "      <td>63</td>\n",
       "      <td>1</td>\n",
       "      <td>3.36</td>\n",
       "      <td>800</td>\n",
       "      <td>US</td>\n",
       "    </tr>\n",
       "    <tr>\n",
       "      <td>3</td>\n",
       "      <td>Los Angeles</td>\n",
       "      <td>34.05</td>\n",
       "      <td>-118.24</td>\n",
       "      <td>1567725513</td>\n",
       "      <td>98.6</td>\n",
       "      <td>78.01</td>\n",
       "      <td>39</td>\n",
       "      <td>1</td>\n",
       "      <td>9.17</td>\n",
       "      <td>800</td>\n",
       "      <td>US</td>\n",
       "    </tr>\n",
       "    <tr>\n",
       "      <td>4</td>\n",
       "      <td>Denver</td>\n",
       "      <td>39.74</td>\n",
       "      <td>-104.98</td>\n",
       "      <td>1567725525</td>\n",
       "      <td>91.4</td>\n",
       "      <td>79</td>\n",
       "      <td>28</td>\n",
       "      <td>75</td>\n",
       "      <td>9.17</td>\n",
       "      <td>501</td>\n",
       "      <td>US</td>\n",
       "    </tr>\n",
       "  </tbody>\n",
       "</table>\n",
       "</div>"
      ],
      "text/plain": [
       "          City    Lat     Lng        Date Max Temp Min Temp Humidity Clouds  \\\n",
       "0      Chicago  41.88  -87.62  1567725597     73.4       64       64      1   \n",
       "1      Atlanta  33.75  -84.39  1567725519     93.2       84       33      1   \n",
       "2       Boston  42.36  -71.06  1567725668     64.4       59       63      1   \n",
       "3  Los Angeles  34.05 -118.24  1567725513     98.6    78.01       39      1   \n",
       "4       Denver  39.74 -104.98  1567725525     91.4       79       28     75   \n",
       "\n",
       "  Wind Speed Weather ID Country  \n",
       "0        4.7        800      US  \n",
       "1       8.05        800      US  \n",
       "2       3.36        800      US  \n",
       "3       9.17        800      US  \n",
       "4       9.17        501      US  "
      ]
     },
     "execution_count": 3,
     "metadata": {},
     "output_type": "execute_result"
    }
   ],
   "source": [
    "missedtot = 0\n",
    "for i in range(len(cities)): \n",
    "    try:\n",
    "        ctmp = weather_df[\"City\"][i]\n",
    "        tmp = owm.get_current(city = weather_df[\"City\"][i], **settings)\n",
    "        weather_df.loc[i, 'Country'] = tmp['sys']['country']        \n",
    "        weather_df.loc[i, 'Lat'] = tmp['coord']['lat']\n",
    "        weather_df.loc[i, 'Lng'] = tmp['coord']['lon']\n",
    "        weather_df.loc[i, 'Date'] = tmp['dt']\n",
    "        weather_df.loc[i, 'Max Temp'] = tmp['main']['temp_max']\n",
    "        weather_df.loc[i, 'Min Temp'] = tmp['main']['temp_min']\n",
    "        weather_df.loc[i, 'Humidity'] = tmp['main']['humidity']\n",
    "        weather_df.loc[i, 'Clouds'] = tmp['clouds']['all']\n",
    "        weather_df.loc[i, 'Wind Speed'] = tmp['wind']['speed']\n",
    "        weather_df.loc[i, 'Weather ID'] = tmp['weather'][0]['id']\n",
    "        time.sleep(1.0001) # Pull limit is 60/min\n",
    "        print(f\"{i} out of {len(cities)} | Found data for: {ctmp.title()}\")\n",
    "    except: \n",
    "        missedtot +=1\n",
    "        print(f\"No data for index ({i})... skipping.\")       \n",
    "#print(f\"For {len(cities)}, dropped {missedtot} ({round(missedtot/len(cities)*100,1)}% lost)\")\n",
    "#print(\"Cleaning and saving dataframe...\")\n",
    "\n",
    "weather_df.head()"
   ]
  },
  {
   "cell_type": "markdown",
   "metadata": {},
   "source": [
    "# Using DarkSkyAPI"
   ]
  },
  {
   "cell_type": "markdown",
   "metadata": {},
   "source": [
    "Powered by Dark Sky: https://darksky.net/"
   ]
  },
  {
   "cell_type": "code",
   "execution_count": 4,
   "metadata": {},
   "outputs": [],
   "source": [
    "from api_keys import dsa_key"
   ]
  },
  {
   "cell_type": "code",
   "execution_count": 4,
   "metadata": {
    "collapsed": true,
    "jupyter": {
     "outputs_hidden": true
    }
   },
   "outputs": [
    {
     "name": "stdout",
     "output_type": "stream",
     "text": [
      "{'base': 'stations',\n",
      " 'clouds': {'all': 75},\n",
      " 'cod': 200,\n",
      " 'coord': {'lat': 39.74, 'lon': -104.98},\n",
      " 'dt': 1567725525,\n",
      " 'id': 5419384,\n",
      " 'main': {'humidity': 28,\n",
      "          'pressure': 1025,\n",
      "          'temp': 84.97,\n",
      "          'temp_max': 91.4,\n",
      "          'temp_min': 79},\n",
      " 'name': 'Denver',\n",
      " 'sys': {'country': 'US',\n",
      "         'id': 3958,\n",
      "         'message': 0.0107,\n",
      "         'sunrise': 1567686702,\n",
      "         'sunset': 1567733162,\n",
      "         'type': 1},\n",
      " 'timezone': -21600,\n",
      " 'visibility': 16093,\n",
      " 'weather': [{'description': 'moderate rain',\n",
      "              'icon': '10d',\n",
      "              'id': 501,\n",
      "              'main': 'Rain'}],\n",
      " 'wind': {'deg': 260, 'gust': 21.92, 'speed': 9.17}}\n"
     ]
    }
   ],
   "source": [
    "pprint.pprint(tmp)"
   ]
  },
  {
   "cell_type": "code",
   "execution_count": 5,
   "metadata": {},
   "outputs": [
    {
     "name": "stdout",
     "output_type": "stream",
     "text": [
      "Requires 9125 pulls\n",
      "Cost: $0.91\n"
     ]
    }
   ],
   "source": [
    "# Calculating the number of pulls\n",
    "x=0\n",
    "x=x+365 # days\n",
    "x=x*5 # years\n",
    "x=x*5 # cities\n",
    "print(f\"Requires {x} pulls\")\n",
    "print(f\"Cost: ${round(x*0.0001,2)}\")"
   ]
  },
  {
   "cell_type": "code",
   "execution_count": 8,
   "metadata": {
    "collapsed": true,
    "jupyter": {
     "outputs_hidden": true
    }
   },
   "outputs": [
    {
     "ename": "KeyError",
     "evalue": "'hourly'",
     "output_type": "error",
     "traceback": [
      "\u001b[1;31m---------------------------------------------------------------------------\u001b[0m",
      "\u001b[1;31mKeyError\u001b[0m                                  Traceback (most recent call last)",
      "\u001b[1;32m<ipython-input-8-cfe234e3fad9>\u001b[0m in \u001b[0;36m<module>\u001b[1;34m\u001b[0m\n\u001b[0;32m      1\u001b[0m \u001b[1;31m# Test Pull for Weather Type\u001b[0m\u001b[1;33m\u001b[0m\u001b[1;33m\u001b[0m\u001b[1;33m\u001b[0m\u001b[0m\n\u001b[1;32m----> 2\u001b[1;33m \u001b[0mtmp\u001b[0m\u001b[1;33m[\u001b[0m\u001b[1;34m'hourly'\u001b[0m\u001b[1;33m]\u001b[0m\u001b[1;33m[\u001b[0m\u001b[1;34m'data'\u001b[0m\u001b[1;33m]\u001b[0m\u001b[1;33m[\u001b[0m\u001b[1;36m0\u001b[0m\u001b[1;33m]\u001b[0m\u001b[1;33m[\u001b[0m\u001b[1;34m'summary'\u001b[0m\u001b[1;33m]\u001b[0m\u001b[1;33m\u001b[0m\u001b[1;33m\u001b[0m\u001b[0m\n\u001b[0m",
      "\u001b[1;31mKeyError\u001b[0m: 'hourly'"
     ]
    }
   ],
   "source": [
    "# Test Pull for Weather Type\n",
    "tmp['hourly']['data'][0]['summary']"
   ]
  },
  {
   "cell_type": "markdown",
   "metadata": {},
   "source": [
    "# Looping Across All Dates"
   ]
  },
  {
   "cell_type": "code",
   "execution_count": 9,
   "metadata": {},
   "outputs": [],
   "source": [
    "# Defining Start and End Dates\n",
    "start = dt.isoformat(dt.strptime(\"2014-01-01T00:00:00-05:00\", '%Y-%m-%dT%H:%M:%S%z')) # Change these for each Time Zone\n",
    "end = dt.isoformat(dt.strptime(\"2019-01-01T00:00:00-05:00\", '%Y-%m-%dT%H:%M:%S%z'))"
   ]
  },
  {
   "cell_type": "code",
   "execution_count": 10,
   "metadata": {},
   "outputs": [],
   "source": [
    "# Lat/Lng for Selected Cities\n",
    "cities = [\"Chicago\",\"Atlanta\",\"Boston\",\"Los Angeles\",\"Denver\"]\n",
    "latlng = [\"41.88,-87.62\",\"33.75,-84.39\",\"42.36,-71.06\",\"34.05,-118.24\",\"39.74,-104.98\"]\n",
    "tz = [\"-05:00\",\"-04:00\",\"-04:00\",\"-07:00\",\"-06:00\"]\n"
   ]
  },
  {
   "cell_type": "code",
   "execution_count": 11,
   "metadata": {},
   "outputs": [
    {
     "name": "stdout",
     "output_type": "stream",
     "text": [
      "Collecting Data for Chicago.\n",
      "Filled 43824 hours per day! If this number is 43824, then everything is accounted for, congrats!\n",
      "Lost 11 out of 43824(0.00025% loss)\n"
     ]
    }
   ],
   "source": [
    "j = 0 # Hour Tracker\n",
    "loss = 0 # Tracking lost data\n",
    "#atl_df = pd.DataFrame(columns = [\"Time\",\"Weather\"]) \n",
    "#lac_df = pd.DataFrame(columns = [\"Time\",\"Weather\"])\n",
    "#bos_df = pd.DataFrame(columns = [\"Time\",\"Weather\"])\n",
    "#den_df = pd.DataFrame(columns = [\"Time\",\"Weather\"])\n",
    "chi_df = pd.DataFrame(columns = [\"Time\",\"Weather\"])\n",
    "\n",
    "\n",
    "# Looping Across all Latitudes and Longitudes\n",
    "ctyi= 0 # 0 is Chicago, 1 is Atlanta, 2 is Boston, 3 is LA, 4 is Denver\n",
    "print(f\"Collecting Data for {cities[ctyi]}.\")\n",
    "\n",
    "# Starting at Day 1 and Looping from there\n",
    "date = start\n",
    "while date != end:\n",
    "    #print(f\"Working on {date}\")\n",
    "    # Using api key, latlng, and date to make an API pull across every day\n",
    "    query_url = (f\"https://api.darksky.net/forecast/{dsa_key}/{latlng[ctyi]},{date}?exclude=currently,daily,minutely,alerts,flags\")\n",
    "    response = requests.get(query_url)\n",
    "    tmp = response.json()\n",
    "    for i in range(24):\n",
    "        try:\n",
    "            tmp_srs = [tmp['hourly']['data'][i]['time'],tmp['hourly']['data'][i]['summary']]\n",
    "        except:\n",
    "            tmp_srs = [f\"Miss hr{i} @ {j}\",np.nan]\n",
    "            loss += 1\n",
    "            #print(f\"No Data found for hour {i}\")\n",
    "        chi_df.loc[j] = (tmp_srs)\n",
    "        j+=1\n",
    "    date = dt.isoformat(dt.strptime(date, '%Y-%m-%dT%H:%M:%S%z') + datetime.timedelta(days=1))\n",
    "        \n",
    "print(f\"Filled {j} hours per day! If this number is 43824, then everything is accounted for, congrats!\")\n",
    "print(f\"Lost {loss} out of {j}({round(loss/j,5)}% loss)\")"
   ]
  },
  {
   "cell_type": "code",
   "execution_count": 12,
   "metadata": {},
   "outputs": [],
   "source": [
    "#atl_df.to_csv(\"atl_api.csv\")\n",
    "#lac_df.to_csv(\"lac_api.csv\")\n",
    "#bos_df.to_csv(\"bos_api.csv\")\n",
    "#den_df.to_csv(\"den_api.csv\")\n",
    "#chi_df.to_csv(\"chi_api.csv\")"
   ]
  },
  {
   "cell_type": "code",
   "execution_count": null,
   "metadata": {},
   "outputs": [],
   "source": []
  }
 ],
 "metadata": {
  "kernelspec": {
   "display_name": "Python 36 (PythonData)",
   "language": "python",
   "name": "pythondata"
  },
  "language_info": {
   "codemirror_mode": {
    "name": "ipython",
    "version": 3
   },
   "file_extension": ".py",
   "mimetype": "text/x-python",
   "name": "python",
   "nbconvert_exporter": "python",
   "pygments_lexer": "ipython3",
   "version": "3.7.4"
  }
 },
 "nbformat": 4,
 "nbformat_minor": 4
}
